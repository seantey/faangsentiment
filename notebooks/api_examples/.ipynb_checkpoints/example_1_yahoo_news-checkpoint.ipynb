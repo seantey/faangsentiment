{
 "cells": [
  {
   "cell_type": "code",
   "execution_count": 1,
   "metadata": {},
   "outputs": [],
   "source": [
    "import boto3\n",
    "import json\n",
    "import requests\n",
    "\n",
    "from datetime import datetime\n",
    "from decimal import Decimal"
   ]
  },
  {
   "cell_type": "code",
   "execution_count": 2,
   "metadata": {},
   "outputs": [],
   "source": [
    "# Load helper functions:\n",
    "# (1) Getting API Key from AWS Secrets Manager\n",
    "# (2) Getting timestamps for UTC and EST/EDT.\n",
    "%run aws_secret_manager.py\n",
    "%run time_helper"
   ]
  },
  {
   "cell_type": "code",
   "execution_count": 3,
   "metadata": {},
   "outputs": [],
   "source": [
    "def get_yahoo_stock_news(symbol: str, api_keys: dict) -> dict:\n",
    "    url = \"https://apidojo-yahoo-finance-v1.p.rapidapi.com/stock/get-news\"\n",
    "\n",
    "    querystring = {\"region\":\"US\",\"category\":f\"{symbol}\"}\n",
    "\n",
    "    headers = {\n",
    "        'x-rapidapi-host': f\"{api_keys['yahoo_api_host']}\",\n",
    "        'x-rapidapi-key': f\"{api_keys['yahoo_api_key']}\"\n",
    "        }\n",
    "\n",
    "    response = requests.request(\"GET\", url, headers=headers, params=querystring)\n",
    "    \n",
    "    r_dict = json.loads(response.text)\n",
    "    \n",
    "    return r_dict"
   ]
  },
  {
   "cell_type": "markdown",
   "metadata": {},
   "source": [
    "## API helper functions usage examples:\n",
    "\n",
    "This notebook contains examples for:\n",
    "\n",
    "1. Loading and storing just one news article for a given stock.\n",
    "2. A loop that repeats it for all stocks and for 50 news articles each."
   ]
  },
  {
   "cell_type": "markdown",
   "metadata": {},
   "source": [
    "### Get the API keys from AWS Secrets Manager\n",
    "\n",
    "Make sure that the AWS access keys are set either through the awscli or set as environment variables."
   ]
  },
  {
   "cell_type": "code",
   "execution_count": 4,
   "metadata": {},
   "outputs": [],
   "source": [
    "api_keys = get_secrets(secret_name='news_api')"
   ]
  },
  {
   "cell_type": "markdown",
   "metadata": {},
   "source": [
    "Getting yahoo news data for a given stock."
   ]
  },
  {
   "cell_type": "markdown",
   "metadata": {},
   "source": [
    "### (1) Fetch news related to Facebook (FB) with the api keys.\n",
    "\n",
    "The `get_yahoo_stock_news` function should return the JSON string as a python dictionary."
   ]
  },
  {
   "cell_type": "code",
   "execution_count": 5,
   "metadata": {},
   "outputs": [],
   "source": [
    "stock_symbols = ['FB', 'AMZN', 'AAPL', 'NFLX', 'GOOG']"
   ]
  },
  {
   "cell_type": "code",
   "execution_count": 6,
   "metadata": {},
   "outputs": [],
   "source": [
    "current_symbol = stock_symbols[0]\n",
    "current_api_source = 'YAHOO'"
   ]
  },
  {
   "cell_type": "code",
   "execution_count": 7,
   "metadata": {},
   "outputs": [],
   "source": [
    "r_dict = get_yahoo_stock_news(current_symbol, api_keys)"
   ]
  },
  {
   "cell_type": "code",
   "execution_count": 8,
   "metadata": {},
   "outputs": [
    {
     "data": {
      "text/plain": [
       "dict_keys(['uuid', 'title', 'link', 'summary', 'publisher', 'author', 'type', 'entities', 'offnet', 'content', 'streams', 'ignore_main_image', 'published_at', 'main_image', 'is_magazine', 'reference_id'])"
      ]
     },
     "execution_count": 8,
     "metadata": {},
     "output_type": "execute_result"
    }
   ],
   "source": [
    "r_dict['items']['result'][0].keys()"
   ]
  },
  {
   "cell_type": "markdown",
   "metadata": {},
   "source": [
    "### Getting the current time in eastern timezone and utc."
   ]
  },
  {
   "cell_type": "code",
   "execution_count": 9,
   "metadata": {},
   "outputs": [],
   "source": [
    "# This is for testing, actual group should come from Airflow\n",
    "ts = get_time_stamp(timezone_str='US/Eastern')\n",
    "analysis_group = datetime.fromtimestamp(ts).strftime(\"%Y-%m-%d_Hour=%H\")"
   ]
  },
  {
   "cell_type": "code",
   "execution_count": 10,
   "metadata": {},
   "outputs": [],
   "source": [
    "success_utc_ts = get_time_stamp(timezone_str='Universal')\n",
    "success_utc_str = get_time_string(timezone_str='Universal')\n",
    "success_e_ts = get_time_stamp(timezone_str='US/Eastern')"
   ]
  },
  {
   "cell_type": "markdown",
   "metadata": {},
   "source": [
    "### Create data tuple/dictionary"
   ]
  },
  {
   "cell_type": "markdown",
   "metadata": {},
   "source": [
    "Data to be loaded and their type:\n",
    "* [string] Ticker Symbol (t_symb)\n",
    "* [float/Decimal(dynamoDb only stores Decimal when using boto3)] API Success Timestamp [UTC] (api_success_time)\n",
    "* [string] API Success Time string [UTC] (api_success_time)\n",
    "* [float/Decimal] API Success Timestamp [Eastern Time] (api_success_time)\n",
    "* [string] Analysis Window Group (analysis_window)\n",
    "* [string] News Source API (api)\n",
    "* [string] News Link (news_link)\n",
    "* [float/Decimal] News Timestamp (news_timestamp)\n",
    "* [string] News Provider (news_provider)\n",
    "* [string] News Title (news_title)\n",
    "* [string] News Content (news_content)"
   ]
  },
  {
   "cell_type": "code",
   "execution_count": null,
   "metadata": {},
   "outputs": [],
   "source": [
    "# TODO Add nullable name to 3rd arg\n",
    "fields = [StructField(\"t_symb\", StringType(), True), \n",
    "          StructField(\"api_success_time\", StringType(), True),\n",
    "          StructField(\"t_symb\", FloatType(), True),\n",
    "          StructField(\"t_symb\", StringType(), True), \n",
    "          StructField(\"t_symb\", StringType(), nullable=True), \n",
    "          StructField(\"t_symb\", StringType(), nullable=True), \n",
    "          StructField(\"t_symb\", StringType(), nullable=True), \n",
    "          StructField(\"t_symb\", StringType(), nullable=True), \n",
    "          StructField(\"t_symb\", StringType(), nullable=True), \n",
    "          StructField(\"t_symb\", StringType(), nullable=True), \n",
    "          StructField(\"t_symb\", StringType(), nullable=True), \n",
    "         ]\n",
    "schema = StructType(fields)"
   ]
  },
  {
   "cell_type": "markdown",
   "metadata": {},
   "source": [
    "Keys to be stored:\n",
    "* (analysis_window) [string]: Analysis Window Group \n",
    "* (symb_id_source) [string]: Symbol_ID_Source, a sort key for DynamoDB. ID usually ranges from 1 to 50 and it indicates the i'th item in results\n",
    "* (source_api) [string]: Current API Source for News (e.g. Yahoo Finance News)\n",
    "* (t_symb) [string]: Ticker Symbol \n",
    "* API Success Timestamp [UTC] (api_success_utc_ts)\n",
    "* API Success Timestamp [Eastern Time] (api_success_e_ts)\n",
    "* API Success Time string [UTC] (api_success_utc_str)\n",
    "* News Source API (api)\n",
    "* News Link (news_link)\n",
    "* News Timestamp (news_timestamp)\n",
    "* News Provider (news_provider)\n",
    "* News Title (news_title)\n",
    "* News Content (news_content)\n",
    "\n",
    "\n",
    "        'analysis_window': analysis_group, # Partition Key\n",
    "        'symb_id_source': f'{current_symbol}_{item_counter_str}_api={current_api_source}', # Sort Key\n",
    "        'source_api': current_api_source,\n",
    "        't_symb':current_symbol,\n",
    "        'api_success_utc_ts': Decimal(str(success_utc_ts)),\n",
    "        'api_success_utc_ts': Decimal(str(success_e_ts)),\n",
    "        'api_success_utc_str': success_utc_str,\n",
    "        'news_link': yahoo_link,\n",
    "        'news_timestamp': Decimal(str(news_timestamp)),\n",
    "        'news_publisher': news_publisher,\n",
    "        'news_title': news_title,\n",
    "        'news_content': news_content"
   ]
  },
  {
   "cell_type": "code",
   "execution_count": 11,
   "metadata": {},
   "outputs": [],
   "source": [
    "item_iterator = 2"
   ]
  },
  {
   "cell_type": "code",
   "execution_count": 12,
   "metadata": {},
   "outputs": [
    {
     "data": {
      "text/plain": [
       "'https://finance.yahoo.com/news/stone-prosecutor-quit-case-protest-184754889.html'"
      ]
     },
     "execution_count": 12,
     "metadata": {},
     "output_type": "execute_result"
    }
   ],
   "source": [
    "r_dict['items']['result'][item_iterator]['link']"
   ]
  },
  {
   "cell_type": "code",
   "execution_count": 13,
   "metadata": {},
   "outputs": [],
   "source": [
    "yahoo_link = r_dict['items']['result'][item_iterator]['link']\n",
    "news_timestamp = r_dict['items']['result'][item_iterator]['published_at']\n",
    "news_publisher = r_dict['items']['result'][item_iterator]['publisher']\n",
    "news_title = r_dict['items']['result'][item_iterator]['title']\n",
    "news_content = r_dict['items']['result'][item_iterator]['content']"
   ]
  },
  {
   "cell_type": "code",
   "execution_count": 14,
   "metadata": {},
   "outputs": [],
   "source": [
    "item_counter = item_iterator + 1"
   ]
  },
  {
   "cell_type": "code",
   "execution_count": 15,
   "metadata": {},
   "outputs": [],
   "source": [
    "# The partition key and sort key makes up the primary key that uniquely identifies each row.\n",
    "# The partition key is what DynamoDB uses to break the data into chunks for storage,\n",
    "# since we usually grab all the data in the same analysis window, this should be more efficient.\n",
    "data = {\n",
    "    'analysis_window': analysis_group, # Partition Key\n",
    "    'symb_id_source': f'{current_symbol}_{item_counter}_api={current_api_source}', # Sort Key\n",
    "    'source_api': current_api_source,\n",
    "    't_symb':current_symbol,\n",
    "    'api_success_utc_ts': Decimal(str(success_utc_ts)),\n",
    "    'api_success_e_ts': Decimal(str(success_e_ts)),\n",
    "    'api_success_utc_str': success_utc_str,\n",
    "    'news_link': yahoo_link,\n",
    "    'news_timestamp': Decimal(str(news_timestamp)),\n",
    "    'news_publisher': news_publisher,\n",
    "    'news_title': news_title,\n",
    "    'news_content': news_content\n",
    "}"
   ]
  },
  {
   "cell_type": "code",
   "execution_count": 19,
   "metadata": {},
   "outputs": [
    {
     "data": {
      "text/plain": [
       "{'analysis_window': '2020-07-15_Hour=16',\n",
       " 'symb_id_source': 'FB_3_api=YAHOO',\n",
       " 't_symb': 'FB',\n",
       " 'api_success_utc_ts': Decimal('1594855675.832861'),\n",
       " 'api_success_utc_str': '2020-07-15 23:27:55 UTC+0000',\n",
       " 'news_link': 'https://finance.yahoo.com/news/stone-prosecutor-quit-case-protest-184754889.html',\n",
       " 'news_timestamp': Decimal('1594838874'),\n",
       " 'news_publisher': 'Bloomberg',\n",
       " 'news_title': 'Roger Stone Prosecutor Who Quit Case in Protest Is Joining Facebook',\n",
       " 'news_content': '<p>(Bloomberg) -- A prosecutor on the trial team that won Roger Stone’s conviction is leaving the Justice Department following Trump administration interventions that effectively negated Stone’s prison sentence, according to people familiar with the matter.</p>\\n<p>Michael Marando, who delivered part of the closing argument in Stone’s trial, will join Facebook Inc., where he will set policy on the site’s content, the people said.</p>\\n<p>A spokeswoman for the U.S. attorney’s office in Washington, where Marando has worked since quitting the Stone case, declined to comment on behalf of Marando and the office. A Facebook representative didn’t immediately respond to a request for comment.</p>\\n<p>Marando and three other U.S. prosecutors withdrew from the Stone case in February in protest after the Justice Department, at the direction of Attorney General William Barr, overruled their sentencing recommendation for Stone in favor of a lighter prison term.</p>\\n<p>A jury convicted Stone of seven felonies, including lying to Congress and tampering with witnesses in Special Counsel Robert Mueller’s investigation of Russian efforts to boost Donald Trump’s candidacy in the 2016 presidential election. After Stone pleaded publicly for Trump to spare him prison, the president commuted his sentence on July 10, four days before he was to report to prison to begin serving his 40-month term.</p>\\n<p>Earlier: Roger Stone Gets Over Three Years in Jail for Trump Cover-Up</p>\\n<p>Prosecutors recommended a prison term of seven to nine years before Barr overruled them. Of the other three prosecutors on the team who withdrew from the case, Jonathan Kravis resigned completely from the Justice Department at the time, Aaron Zelinsky returned to his role at the U.S. attorney’s office in Baltimore, and Adam Jed returned to his position on the appellate staff in the Justice Department’s civil division. Zelinsky and Jed remain in government service.</p>\\n<p>Marando earned his undergraduate and law degrees from Cornell. As a prosecutor, he was a member of the fraud and public corruption unit in the U.S. attorney’s office in Washington, leading several high-profile cases involving money laundering, bribery and cyberfraud.</p>\\n<p>Facebook has attracted critics on the left and the right over its role in allowing the spread of false information and what it should do to crack down on it.</p>\\n<p>More: Facebook to Remove Roger Stone Pages Linked to Fake Accounts</p>\\n<p>For more articles like this, please visit us at <a href=\"https://www.bloomberg.com\">bloomberg.com</a></p>\\n<p><a href=\"https://www.bloomberg.com/subscriptions/67obqkd5zdp5lj8/?utm_source=yahoo_usn\">Subscribe now</a> to stay ahead with the most trusted business news source.</p>\\n<p>©2020 Bloomberg L.P.</p>'}"
      ]
     },
     "execution_count": 19,
     "metadata": {},
     "output_type": "execute_result"
    }
   ],
   "source": [
    "data"
   ]
  },
  {
   "cell_type": "code",
   "execution_count": 17,
   "metadata": {},
   "outputs": [],
   "source": [
    "def put_news_data(news_data: dict, table_name: str='test_data') -> dict:\n",
    "\n",
    "    dynamodb = boto3.resource('dynamodb')\n",
    "    table = dynamodb.Table(table_name)\n",
    "    response = table.put_item(Item=news_data)\n",
    "    \n",
    "    return response"
   ]
  },
  {
   "cell_type": "code",
   "execution_count": 20,
   "metadata": {},
   "outputs": [],
   "source": [
    "response = put_news_data(data,'test_data')"
   ]
  },
  {
   "cell_type": "markdown",
   "metadata": {},
   "source": [
    "### (2) Fetch 50 news articles each for all FAANG stocks and load them into DynamoDB\n",
    "\n",
    "Basically the code above in a loop, we'll put it in a function to use with AWS Lambda later on."
   ]
  },
  {
   "cell_type": "code",
   "execution_count": 20,
   "metadata": {},
   "outputs": [],
   "source": [
    "# This is for testing, actual group should come from Airflow\n",
    "ts = get_time_stamp(timezone_str='US/Eastern')\n",
    "analysis_group = datetime.fromtimestamp(ts).strftime(\"%Y-%m-%d_Hour=%H\")"
   ]
  },
  {
   "cell_type": "code",
   "execution_count": 21,
   "metadata": {},
   "outputs": [],
   "source": [
    "def fetch_FAANG_yahoo_news(analysis_group: str):\n",
    "    stock_symbols = ['FB', 'AMZN', 'AAPL', 'NFLX', 'GOOG']\n",
    "    api_keys = get_secrets(secret_name='news_api')\n",
    "    \n",
    "    responses = []\n",
    "    for current_symbol in stock_symbols:\n",
    "        current_api_source = 'YAHOO'\n",
    "        \n",
    "        r_dict = get_yahoo_stock_news(current_symbol, api_keys)\n",
    "\n",
    "        # Find out how many articles were fetched and count number of digits for padding.\n",
    "        # Left pad the item counter with zeros: 01, 02, ..., 12, ..., 50\n",
    "        # Should not really affect sentiment score but rows looks nicer when sorting.\n",
    "        total_num_articles = len(r_dict['items']['result'])\n",
    "        digits = len(str(total_num_articles)) # Somewhat lazy method        \n",
    "\n",
    "        # Time stamp for API call\n",
    "        # TODO handle API call failure with Apache Airflow\n",
    "        success_utc_ts = get_time_stamp(timezone_str='Universal')\n",
    "        success_utc_str = get_time_string(timezone_str='Universal')\n",
    "        success_e_ts = get_time_stamp(timezone_str='US/Eastern')        \n",
    "        \n",
    "        item_counter = 1\n",
    "        \n",
    "        for news_data in r_dict['items']['result']:\n",
    "            yahoo_link = news_data['link']\n",
    "            news_timestamp = news_data['published_at']\n",
    "            news_publisher = news_data['publisher']\n",
    "            news_title = news_data['title']\n",
    "            news_content = news_data['content']          \n",
    "\n",
    "            item_counter_str = str(item_counter).rjust(digits, '0')\n",
    "            \n",
    "            data_row = {\n",
    "                'analysis_window': analysis_group, # Partition Key\n",
    "                'symb_id_source': f'{current_symbol}_{item_counter_str}_api={current_api_source}', # Sort Key\n",
    "                'source_api': current_api_source,\n",
    "                't_symb':current_symbol,\n",
    "                'api_success_utc_ts': Decimal(str(success_utc_ts)),\n",
    "                'api_success_utc_ts': Decimal(str(success_e_ts)),\n",
    "                'api_success_utc_str': success_utc_str,\n",
    "                'news_link': yahoo_link,\n",
    "                'news_timestamp': Decimal(str(news_timestamp)),\n",
    "                'news_publisher': news_publisher,\n",
    "                'news_title': news_title,\n",
    "                'news_content': news_content\n",
    "            }\n",
    "            \n",
    "            response = put_news_data(data_row,'test_data')\n",
    "            response_code = response['ResponseMetadata']['HTTPStatusCode']\n",
    "            responses.append(response_code)\n",
    "            \n",
    "            # TODO replace with logger for production code\n",
    "            print(f'Response code = {response_code}, for storing {current_symbol} news, item # = {item_counter}, with {current_api_source} API')\n",
    "            item_counter += 1\n",
    "            "
   ]
  },
  {
   "cell_type": "code",
   "execution_count": 24,
   "metadata": {},
   "outputs": [
    {
     "name": "stdout",
     "output_type": "stream",
     "text": [
      "Response code = 200, for storing FB news, item # = 1, with YAHOO API\n",
      "Response code = 200, for storing FB news, item # = 2, with YAHOO API\n",
      "Response code = 200, for storing FB news, item # = 3, with YAHOO API\n",
      "Response code = 200, for storing FB news, item # = 4, with YAHOO API\n",
      "Response code = 200, for storing FB news, item # = 5, with YAHOO API\n",
      "Response code = 200, for storing FB news, item # = 6, with YAHOO API\n",
      "Response code = 200, for storing FB news, item # = 7, with YAHOO API\n",
      "Response code = 200, for storing FB news, item # = 8, with YAHOO API\n",
      "Response code = 200, for storing FB news, item # = 9, with YAHOO API\n",
      "Response code = 200, for storing FB news, item # = 10, with YAHOO API\n",
      "Response code = 200, for storing FB news, item # = 11, with YAHOO API\n",
      "Response code = 200, for storing FB news, item # = 12, with YAHOO API\n",
      "Response code = 200, for storing FB news, item # = 13, with YAHOO API\n",
      "Response code = 200, for storing FB news, item # = 14, with YAHOO API\n",
      "Response code = 200, for storing FB news, item # = 15, with YAHOO API\n",
      "Response code = 200, for storing FB news, item # = 16, with YAHOO API\n",
      "Response code = 200, for storing FB news, item # = 17, with YAHOO API\n",
      "Response code = 200, for storing FB news, item # = 18, with YAHOO API\n",
      "Response code = 200, for storing FB news, item # = 19, with YAHOO API\n",
      "Response code = 200, for storing FB news, item # = 20, with YAHOO API\n",
      "Response code = 200, for storing FB news, item # = 21, with YAHOO API\n",
      "Response code = 200, for storing FB news, item # = 22, with YAHOO API\n",
      "Response code = 200, for storing FB news, item # = 23, with YAHOO API\n",
      "Response code = 200, for storing FB news, item # = 24, with YAHOO API\n",
      "Response code = 200, for storing FB news, item # = 25, with YAHOO API\n",
      "Response code = 200, for storing FB news, item # = 26, with YAHOO API\n",
      "Response code = 200, for storing FB news, item # = 27, with YAHOO API\n",
      "Response code = 200, for storing FB news, item # = 28, with YAHOO API\n",
      "Response code = 200, for storing FB news, item # = 29, with YAHOO API\n",
      "Response code = 200, for storing FB news, item # = 30, with YAHOO API\n",
      "Response code = 200, for storing FB news, item # = 31, with YAHOO API\n",
      "Response code = 200, for storing FB news, item # = 32, with YAHOO API\n",
      "Response code = 200, for storing FB news, item # = 33, with YAHOO API\n",
      "Response code = 200, for storing FB news, item # = 34, with YAHOO API\n",
      "Response code = 200, for storing FB news, item # = 35, with YAHOO API\n",
      "Response code = 200, for storing FB news, item # = 36, with YAHOO API\n",
      "Response code = 200, for storing FB news, item # = 37, with YAHOO API\n",
      "Response code = 200, for storing FB news, item # = 38, with YAHOO API\n",
      "Response code = 200, for storing FB news, item # = 39, with YAHOO API\n",
      "Response code = 200, for storing FB news, item # = 40, with YAHOO API\n",
      "Response code = 200, for storing FB news, item # = 41, with YAHOO API\n",
      "Response code = 200, for storing FB news, item # = 42, with YAHOO API\n",
      "Response code = 200, for storing FB news, item # = 43, with YAHOO API\n",
      "Response code = 200, for storing FB news, item # = 44, with YAHOO API\n",
      "Response code = 200, for storing FB news, item # = 45, with YAHOO API\n",
      "Response code = 200, for storing FB news, item # = 46, with YAHOO API\n",
      "Response code = 200, for storing FB news, item # = 47, with YAHOO API\n",
      "Response code = 200, for storing FB news, item # = 48, with YAHOO API\n",
      "Response code = 200, for storing FB news, item # = 49, with YAHOO API\n",
      "Response code = 200, for storing FB news, item # = 50, with YAHOO API\n",
      "Response code = 200, for storing AMZN news, item # = 1, with YAHOO API\n",
      "Response code = 200, for storing AMZN news, item # = 2, with YAHOO API\n",
      "Response code = 200, for storing AMZN news, item # = 3, with YAHOO API\n",
      "Response code = 200, for storing AMZN news, item # = 4, with YAHOO API\n",
      "Response code = 200, for storing AMZN news, item # = 5, with YAHOO API\n",
      "Response code = 200, for storing AMZN news, item # = 6, with YAHOO API\n",
      "Response code = 200, for storing AMZN news, item # = 7, with YAHOO API\n",
      "Response code = 200, for storing AMZN news, item # = 8, with YAHOO API\n",
      "Response code = 200, for storing AMZN news, item # = 9, with YAHOO API\n",
      "Response code = 200, for storing AMZN news, item # = 10, with YAHOO API\n",
      "Response code = 200, for storing AMZN news, item # = 11, with YAHOO API\n",
      "Response code = 200, for storing AMZN news, item # = 12, with YAHOO API\n",
      "Response code = 200, for storing AMZN news, item # = 13, with YAHOO API\n",
      "Response code = 200, for storing AMZN news, item # = 14, with YAHOO API\n",
      "Response code = 200, for storing AMZN news, item # = 15, with YAHOO API\n",
      "Response code = 200, for storing AMZN news, item # = 16, with YAHOO API\n",
      "Response code = 200, for storing AMZN news, item # = 17, with YAHOO API\n",
      "Response code = 200, for storing AMZN news, item # = 18, with YAHOO API\n",
      "Response code = 200, for storing AMZN news, item # = 19, with YAHOO API\n",
      "Response code = 200, for storing AMZN news, item # = 20, with YAHOO API\n",
      "Response code = 200, for storing AMZN news, item # = 21, with YAHOO API\n",
      "Response code = 200, for storing AMZN news, item # = 22, with YAHOO API\n",
      "Response code = 200, for storing AMZN news, item # = 23, with YAHOO API\n",
      "Response code = 200, for storing AMZN news, item # = 24, with YAHOO API\n",
      "Response code = 200, for storing AMZN news, item # = 25, with YAHOO API\n",
      "Response code = 200, for storing AMZN news, item # = 26, with YAHOO API\n",
      "Response code = 200, for storing AMZN news, item # = 27, with YAHOO API\n",
      "Response code = 200, for storing AMZN news, item # = 28, with YAHOO API\n",
      "Response code = 200, for storing AMZN news, item # = 29, with YAHOO API\n",
      "Response code = 200, for storing AMZN news, item # = 30, with YAHOO API\n",
      "Response code = 200, for storing AMZN news, item # = 31, with YAHOO API\n",
      "Response code = 200, for storing AMZN news, item # = 32, with YAHOO API\n",
      "Response code = 200, for storing AMZN news, item # = 33, with YAHOO API\n",
      "Response code = 200, for storing AMZN news, item # = 34, with YAHOO API\n",
      "Response code = 200, for storing AMZN news, item # = 35, with YAHOO API\n",
      "Response code = 200, for storing AMZN news, item # = 36, with YAHOO API\n",
      "Response code = 200, for storing AMZN news, item # = 37, with YAHOO API\n",
      "Response code = 200, for storing AMZN news, item # = 38, with YAHOO API\n",
      "Response code = 200, for storing AMZN news, item # = 39, with YAHOO API\n",
      "Response code = 200, for storing AMZN news, item # = 40, with YAHOO API\n",
      "Response code = 200, for storing AMZN news, item # = 41, with YAHOO API\n",
      "Response code = 200, for storing AMZN news, item # = 42, with YAHOO API\n",
      "Response code = 200, for storing AMZN news, item # = 43, with YAHOO API\n",
      "Response code = 200, for storing AMZN news, item # = 44, with YAHOO API\n",
      "Response code = 200, for storing AMZN news, item # = 45, with YAHOO API\n",
      "Response code = 200, for storing AMZN news, item # = 46, with YAHOO API\n",
      "Response code = 200, for storing AMZN news, item # = 47, with YAHOO API\n",
      "Response code = 200, for storing AMZN news, item # = 48, with YAHOO API\n",
      "Response code = 200, for storing AMZN news, item # = 49, with YAHOO API\n",
      "Response code = 200, for storing AMZN news, item # = 50, with YAHOO API\n",
      "Response code = 200, for storing AAPL news, item # = 1, with YAHOO API\n",
      "Response code = 200, for storing AAPL news, item # = 2, with YAHOO API\n",
      "Response code = 200, for storing AAPL news, item # = 3, with YAHOO API\n",
      "Response code = 200, for storing AAPL news, item # = 4, with YAHOO API\n",
      "Response code = 200, for storing AAPL news, item # = 5, with YAHOO API\n",
      "Response code = 200, for storing AAPL news, item # = 6, with YAHOO API\n",
      "Response code = 200, for storing AAPL news, item # = 7, with YAHOO API\n",
      "Response code = 200, for storing AAPL news, item # = 8, with YAHOO API\n",
      "Response code = 200, for storing AAPL news, item # = 9, with YAHOO API\n",
      "Response code = 200, for storing AAPL news, item # = 10, with YAHOO API\n",
      "Response code = 200, for storing AAPL news, item # = 11, with YAHOO API\n",
      "Response code = 200, for storing AAPL news, item # = 12, with YAHOO API\n",
      "Response code = 200, for storing AAPL news, item # = 13, with YAHOO API\n",
      "Response code = 200, for storing AAPL news, item # = 14, with YAHOO API\n",
      "Response code = 200, for storing AAPL news, item # = 15, with YAHOO API\n",
      "Response code = 200, for storing AAPL news, item # = 16, with YAHOO API\n",
      "Response code = 200, for storing AAPL news, item # = 17, with YAHOO API\n",
      "Response code = 200, for storing AAPL news, item # = 18, with YAHOO API\n",
      "Response code = 200, for storing AAPL news, item # = 19, with YAHOO API\n",
      "Response code = 200, for storing AAPL news, item # = 20, with YAHOO API\n",
      "Response code = 200, for storing AAPL news, item # = 21, with YAHOO API\n",
      "Response code = 200, for storing AAPL news, item # = 22, with YAHOO API\n",
      "Response code = 200, for storing AAPL news, item # = 23, with YAHOO API\n",
      "Response code = 200, for storing AAPL news, item # = 24, with YAHOO API\n",
      "Response code = 200, for storing AAPL news, item # = 25, with YAHOO API\n",
      "Response code = 200, for storing AAPL news, item # = 26, with YAHOO API\n",
      "Response code = 200, for storing AAPL news, item # = 27, with YAHOO API\n",
      "Response code = 200, for storing AAPL news, item # = 28, with YAHOO API\n",
      "Response code = 200, for storing AAPL news, item # = 29, with YAHOO API\n",
      "Response code = 200, for storing AAPL news, item # = 30, with YAHOO API\n",
      "Response code = 200, for storing AAPL news, item # = 31, with YAHOO API\n",
      "Response code = 200, for storing AAPL news, item # = 32, with YAHOO API\n",
      "Response code = 200, for storing AAPL news, item # = 33, with YAHOO API\n",
      "Response code = 200, for storing AAPL news, item # = 34, with YAHOO API\n",
      "Response code = 200, for storing AAPL news, item # = 35, with YAHOO API\n",
      "Response code = 200, for storing AAPL news, item # = 36, with YAHOO API\n",
      "Response code = 200, for storing AAPL news, item # = 37, with YAHOO API\n",
      "Response code = 200, for storing AAPL news, item # = 38, with YAHOO API\n",
      "Response code = 200, for storing AAPL news, item # = 39, with YAHOO API\n",
      "Response code = 200, for storing AAPL news, item # = 40, with YAHOO API\n",
      "Response code = 200, for storing AAPL news, item # = 41, with YAHOO API\n",
      "Response code = 200, for storing AAPL news, item # = 42, with YAHOO API\n",
      "Response code = 200, for storing AAPL news, item # = 43, with YAHOO API\n",
      "Response code = 200, for storing AAPL news, item # = 44, with YAHOO API\n",
      "Response code = 200, for storing AAPL news, item # = 45, with YAHOO API\n",
      "Response code = 200, for storing AAPL news, item # = 46, with YAHOO API\n",
      "Response code = 200, for storing AAPL news, item # = 47, with YAHOO API\n",
      "Response code = 200, for storing AAPL news, item # = 48, with YAHOO API\n",
      "Response code = 200, for storing AAPL news, item # = 49, with YAHOO API\n",
      "Response code = 200, for storing AAPL news, item # = 50, with YAHOO API\n",
      "Response code = 200, for storing NFLX news, item # = 1, with YAHOO API\n",
      "Response code = 200, for storing NFLX news, item # = 2, with YAHOO API\n",
      "Response code = 200, for storing NFLX news, item # = 3, with YAHOO API\n",
      "Response code = 200, for storing NFLX news, item # = 4, with YAHOO API\n",
      "Response code = 200, for storing NFLX news, item # = 5, with YAHOO API\n",
      "Response code = 200, for storing NFLX news, item # = 6, with YAHOO API\n",
      "Response code = 200, for storing NFLX news, item # = 7, with YAHOO API\n",
      "Response code = 200, for storing NFLX news, item # = 8, with YAHOO API\n",
      "Response code = 200, for storing NFLX news, item # = 9, with YAHOO API\n",
      "Response code = 200, for storing NFLX news, item # = 10, with YAHOO API\n",
      "Response code = 200, for storing NFLX news, item # = 11, with YAHOO API\n",
      "Response code = 200, for storing NFLX news, item # = 12, with YAHOO API\n",
      "Response code = 200, for storing NFLX news, item # = 13, with YAHOO API\n",
      "Response code = 200, for storing NFLX news, item # = 14, with YAHOO API\n",
      "Response code = 200, for storing NFLX news, item # = 15, with YAHOO API\n",
      "Response code = 200, for storing NFLX news, item # = 16, with YAHOO API\n",
      "Response code = 200, for storing NFLX news, item # = 17, with YAHOO API\n",
      "Response code = 200, for storing NFLX news, item # = 18, with YAHOO API\n",
      "Response code = 200, for storing NFLX news, item # = 19, with YAHOO API\n",
      "Response code = 200, for storing NFLX news, item # = 20, with YAHOO API\n",
      "Response code = 200, for storing NFLX news, item # = 21, with YAHOO API\n",
      "Response code = 200, for storing NFLX news, item # = 22, with YAHOO API\n",
      "Response code = 200, for storing NFLX news, item # = 23, with YAHOO API\n",
      "Response code = 200, for storing NFLX news, item # = 24, with YAHOO API\n",
      "Response code = 200, for storing NFLX news, item # = 25, with YAHOO API\n",
      "Response code = 200, for storing NFLX news, item # = 26, with YAHOO API\n",
      "Response code = 200, for storing NFLX news, item # = 27, with YAHOO API\n",
      "Response code = 200, for storing NFLX news, item # = 28, with YAHOO API\n",
      "Response code = 200, for storing NFLX news, item # = 29, with YAHOO API\n",
      "Response code = 200, for storing NFLX news, item # = 30, with YAHOO API\n",
      "Response code = 200, for storing NFLX news, item # = 31, with YAHOO API\n",
      "Response code = 200, for storing NFLX news, item # = 32, with YAHOO API\n",
      "Response code = 200, for storing NFLX news, item # = 33, with YAHOO API\n",
      "Response code = 200, for storing NFLX news, item # = 34, with YAHOO API\n",
      "Response code = 200, for storing NFLX news, item # = 35, with YAHOO API\n",
      "Response code = 200, for storing NFLX news, item # = 36, with YAHOO API\n",
      "Response code = 200, for storing NFLX news, item # = 37, with YAHOO API\n",
      "Response code = 200, for storing NFLX news, item # = 38, with YAHOO API\n",
      "Response code = 200, for storing NFLX news, item # = 39, with YAHOO API\n",
      "Response code = 200, for storing NFLX news, item # = 40, with YAHOO API\n",
      "Response code = 200, for storing NFLX news, item # = 41, with YAHOO API\n",
      "Response code = 200, for storing NFLX news, item # = 42, with YAHOO API\n",
      "Response code = 200, for storing NFLX news, item # = 43, with YAHOO API\n",
      "Response code = 200, for storing NFLX news, item # = 44, with YAHOO API\n",
      "Response code = 200, for storing NFLX news, item # = 45, with YAHOO API\n",
      "Response code = 200, for storing NFLX news, item # = 46, with YAHOO API\n",
      "Response code = 200, for storing NFLX news, item # = 47, with YAHOO API\n",
      "Response code = 200, for storing NFLX news, item # = 48, with YAHOO API\n",
      "Response code = 200, for storing NFLX news, item # = 49, with YAHOO API\n",
      "Response code = 200, for storing NFLX news, item # = 50, with YAHOO API\n",
      "Response code = 200, for storing GOOG news, item # = 1, with YAHOO API\n",
      "Response code = 200, for storing GOOG news, item # = 2, with YAHOO API\n",
      "Response code = 200, for storing GOOG news, item # = 3, with YAHOO API\n",
      "Response code = 200, for storing GOOG news, item # = 4, with YAHOO API\n",
      "Response code = 200, for storing GOOG news, item # = 5, with YAHOO API\n",
      "Response code = 200, for storing GOOG news, item # = 6, with YAHOO API\n",
      "Response code = 200, for storing GOOG news, item # = 7, with YAHOO API\n",
      "Response code = 200, for storing GOOG news, item # = 8, with YAHOO API\n",
      "Response code = 200, for storing GOOG news, item # = 9, with YAHOO API\n",
      "Response code = 200, for storing GOOG news, item # = 10, with YAHOO API\n",
      "Response code = 200, for storing GOOG news, item # = 11, with YAHOO API\n",
      "Response code = 200, for storing GOOG news, item # = 12, with YAHOO API\n",
      "Response code = 200, for storing GOOG news, item # = 13, with YAHOO API\n",
      "Response code = 200, for storing GOOG news, item # = 14, with YAHOO API\n",
      "Response code = 200, for storing GOOG news, item # = 15, with YAHOO API\n",
      "Response code = 200, for storing GOOG news, item # = 16, with YAHOO API\n",
      "Response code = 200, for storing GOOG news, item # = 17, with YAHOO API\n",
      "Response code = 200, for storing GOOG news, item # = 18, with YAHOO API\n",
      "Response code = 200, for storing GOOG news, item # = 19, with YAHOO API\n",
      "Response code = 200, for storing GOOG news, item # = 20, with YAHOO API\n",
      "Response code = 200, for storing GOOG news, item # = 21, with YAHOO API\n",
      "Response code = 200, for storing GOOG news, item # = 22, with YAHOO API\n",
      "Response code = 200, for storing GOOG news, item # = 23, with YAHOO API\n",
      "Response code = 200, for storing GOOG news, item # = 24, with YAHOO API\n",
      "Response code = 200, for storing GOOG news, item # = 25, with YAHOO API\n",
      "Response code = 200, for storing GOOG news, item # = 26, with YAHOO API\n",
      "Response code = 200, for storing GOOG news, item # = 27, with YAHOO API\n",
      "Response code = 200, for storing GOOG news, item # = 28, with YAHOO API\n",
      "Response code = 200, for storing GOOG news, item # = 29, with YAHOO API\n",
      "Response code = 200, for storing GOOG news, item # = 30, with YAHOO API\n",
      "Response code = 200, for storing GOOG news, item # = 31, with YAHOO API\n",
      "Response code = 200, for storing GOOG news, item # = 32, with YAHOO API\n",
      "Response code = 200, for storing GOOG news, item # = 33, with YAHOO API\n",
      "Response code = 200, for storing GOOG news, item # = 34, with YAHOO API\n",
      "Response code = 200, for storing GOOG news, item # = 35, with YAHOO API\n",
      "Response code = 200, for storing GOOG news, item # = 36, with YAHOO API\n",
      "Response code = 200, for storing GOOG news, item # = 37, with YAHOO API\n",
      "Response code = 200, for storing GOOG news, item # = 38, with YAHOO API\n",
      "Response code = 200, for storing GOOG news, item # = 39, with YAHOO API\n",
      "Response code = 200, for storing GOOG news, item # = 40, with YAHOO API\n",
      "Response code = 200, for storing GOOG news, item # = 41, with YAHOO API\n",
      "Response code = 200, for storing GOOG news, item # = 42, with YAHOO API\n",
      "Response code = 200, for storing GOOG news, item # = 43, with YAHOO API\n",
      "Response code = 200, for storing GOOG news, item # = 44, with YAHOO API\n",
      "Response code = 200, for storing GOOG news, item # = 45, with YAHOO API\n",
      "Response code = 200, for storing GOOG news, item # = 46, with YAHOO API\n",
      "Response code = 200, for storing GOOG news, item # = 47, with YAHOO API\n",
      "Response code = 200, for storing GOOG news, item # = 48, with YAHOO API\n",
      "Response code = 200, for storing GOOG news, item # = 49, with YAHOO API\n",
      "Response code = 200, for storing GOOG news, item # = 50, with YAHOO API\n"
     ]
    }
   ],
   "source": [
    "fetch_FAANG_yahoo_news(analysis_group)"
   ]
  }
 ],
 "metadata": {
  "kernelspec": {
   "display_name": "faangs_venv",
   "language": "python",
   "name": "faangs_venv"
  },
  "language_info": {
   "codemirror_mode": {
    "name": "ipython",
    "version": 3
   },
   "file_extension": ".py",
   "mimetype": "text/x-python",
   "name": "python",
   "nbconvert_exporter": "python",
   "pygments_lexer": "ipython3",
   "version": "3.7.3"
  }
 },
 "nbformat": 4,
 "nbformat_minor": 2
}
