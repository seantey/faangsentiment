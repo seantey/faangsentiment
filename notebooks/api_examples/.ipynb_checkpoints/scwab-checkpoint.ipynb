{
 "cells": [
  {
   "cell_type": "code",
   "execution_count": 1,
   "metadata": {},
   "outputs": [],
   "source": [
    "import json\n",
    "import requests\n",
    "import os"
   ]
  },
  {
   "cell_type": "code",
   "execution_count": 14,
   "metadata": {},
   "outputs": [],
   "source": [
    "%run aws_secret_manager.py"
   ]
  },
  {
   "cell_type": "code",
   "execution_count": 15,
   "metadata": {},
   "outputs": [],
   "source": [
    "api_keys = get_secret()"
   ]
  },
  {
   "cell_type": "markdown",
   "metadata": {},
   "source": [
    "### Get list of news related to specific stock from Schwab"
   ]
  },
  {
   "cell_type": "code",
   "execution_count": 18,
   "metadata": {},
   "outputs": [],
   "source": [
    "url = \"https://schwab.p.rapidapi.com/quote/get-summary\"\n",
    "querystring = {\"symbol\":\"TSLA\"}\n",
    "headers = {\n",
    "    'x-rapidapi-host': \"schwab.p.rapidapi.com\",\n",
    "    'x-rapidapi-key': f\"{api_keys['schwab_api_key']}\"\n",
    "    }\n",
    "\n",
    "response = requests.request(\"GET\", url, headers=headers, params=querystring)"
   ]
  },
  {
   "cell_type": "code",
   "execution_count": 19,
   "metadata": {},
   "outputs": [],
   "source": [
    "r_dict = json.loads(response.text)"
   ]
  },
  {
   "cell_type": "code",
   "execution_count": 20,
   "metadata": {},
   "outputs": [
    {
     "data": {
      "text/plain": [
       "dict_keys(['QuoteOutput', 'FundamentalsOutput', 'PutCallOutput', 'SchwabEquityRatingOutput', 'DividendsOutput', 'EarningsOutput', 'CompanyOverviewOutput', 'Error', 'RequestTimestamp', 'StocksNewsOutput', 'MarketOutput', 'Disclosures'])"
      ]
     },
     "execution_count": 20,
     "metadata": {},
     "output_type": "execute_result"
    }
   ],
   "source": [
    "r_dict.keys()"
   ]
  },
  {
   "cell_type": "code",
   "execution_count": 21,
   "metadata": {},
   "outputs": [],
   "source": [
    "newsIDs = [news['DocumentID']for news in r_dict['StocksNewsOutput']['Stories']]"
   ]
  },
  {
   "cell_type": "code",
   "execution_count": 31,
   "metadata": {},
   "outputs": [],
   "source": [
    "story_list = r_dict['StocksNewsOutput']['Stories']"
   ]
  },
  {
   "cell_type": "code",
   "execution_count": 32,
   "metadata": {},
   "outputs": [
    {
     "data": {
      "text/plain": [
       "[{'Headline': 'Close Update: US Stocks Surge, Nasdaq Hits New Record as Chinese Stocks Rally; Amazon Stock Climbs Over $3,000 Mark',\n",
       "  'TimeStamp': '4:59PM ET, 07/06/2020',\n",
       "  'TimeStampRAW': '2020-07-06 16:59:49-04',\n",
       "  'Provider': 'MT Newswires',\n",
       "  'Teaser': '04:59 PM EDT, 07/06/2020 (MT Newswires) -- US stocks opened the week on a high amid a strong rally in Chinese stocks and a surprise improvement in a services sector gauge, while Amazon (AMZN) rose to more than $3,000, helping the Nasdaq Composite br...',\n",
       "  'DocumentID': '1413-A2210046-1QDBECHEK6LH2ANH5SJ4I7K7LG'},\n",
       " {'Headline': 'Stocks Rally as Data Points to Recovery as COVID-19 Cases Rise in Most States',\n",
       "  'TimeStamp': '4:33PM ET, 07/06/2020',\n",
       "  'TimeStampRAW': '2020-07-06 16:33:17-04',\n",
       "  'Provider': 'MT Newswires',\n",
       "  'Teaser': \"04:33 PM EDT, 07/06/2020 (MT Newswires) -- Stocks rallied on Monday as data showed signs of a recovery as the economy continues to recover from the continuing COVID-19 pandemic. The market's three main benchmarks each added more than 1.5% as the Ins...\",\n",
       "  'DocumentID': '1413-A2210011-560OOFGE4TOE7997P2UE9A70SO'},\n",
       " {'Headline': 'Update: US Equities Jump Amid Strong Service Sector Expansion; Chinese Stock Market Rally Boosts Global Bullish Sentiment',\n",
       "  'TimeStamp': '1:20PM ET, 07/06/2020',\n",
       "  'TimeStampRAW': '2020-07-06 13:20:28-04',\n",
       "  'Provider': 'MT Newswires',\n",
       "  'Teaser': '01:20 PM EDT, 07/06/2020 (MT Newswires) -- US stocks rose and Treasuries fell after a surprise improvement in a services sector gauge and a strong rally in Chinese stocks  outweighed the worsening of the COVID-19 pandemic. The Dow Jones Industrial A...',\n",
       "  'DocumentID': '1413-A2209897-15AR5G0SIVACN68V7G83NNFBIN'},\n",
       " {'Headline': \"Analyst Actions: JMP Securities Raises Tesla's Price Target to Street-High $1,500 From $1,050, Maintains Market Outperform Rating\",\n",
       "  'TimeStamp': '9:36AM ET, 07/06/2020',\n",
       "  'TimeStampRAW': '2020-07-06 09:36:51-04',\n",
       "  'Provider': 'MT Newswires',\n",
       "  'Teaser': '09:36 AM EDT, 07/06/2020 (MT Newswires) -- Tesla (TSLA) has an average hold rating among analysts with a $631 average price target. (MT Newswires covers equity, commodity and economic research from major banks and research firms in North America, As...',\n",
       "  'DocumentID': '1413-A2209712-461CLDUF1HO68KH2PN0QER61G6'},\n",
       " {'Headline': \"Analyst Actions: JP Morgan Lifts Tesla's Price Target to $295 From $275 on Upbeat Output and Delivery Report, Maintains Underweight Rating\",\n",
       "  'TimeStamp': '9:35AM ET, 07/06/2020',\n",
       "  'TimeStampRAW': '2020-07-06 09:35:01-04',\n",
       "  'Provider': 'MT Newswires',\n",
       "  'Teaser': '09:35 AM EDT, 07/06/2020 (MT Newswires) -- Tesla (TSLA) has an average hold rating among analysts with a $631 average price target. (MT Newswires covers equity, commodity and economic research from major banks and research firms in North America, As...',\n",
       "  'DocumentID': '1413-A2209708-52Q3E02HLMS0L2B8MT1CGCHC56'},\n",
       " {'Headline': \"Analyst Actions: Deutsche Bank Raises Tesla's Price Target to $1,000 From $900, Maintains Hold Rating\",\n",
       "  'TimeStamp': '9:32AM ET, 07/06/2020',\n",
       "  'TimeStampRAW': '2020-07-06 09:32:44-04',\n",
       "  'Provider': 'MT Newswires',\n",
       "  'Teaser': '09:32 AM EDT, 07/06/2020 (MT Newswires) -- Tesla (TSLA) has an average hold rating among analysts with a $631 average price target. (MT Newswires covers equity, commodity and economic research from major banks and research firms in North America, As...',\n",
       "  'DocumentID': '1413-A2209705-0IR2T73R4HK7TJ0HOT8OROCVU4'},\n",
       " {'Headline': 'Sector Update: Consumer Firms Gain Premarket Monday',\n",
       "  'TimeStamp': '9:05AM ET, 07/06/2020',\n",
       "  'TimeStampRAW': '2020-07-06 09:05:59-04',\n",
       "  'Provider': 'MT Newswires',\n",
       "  'Teaser': \"09:05 AM EDT, 07/06/2020 (MT Newswires) -- Consumer firms were gaining in Monday's premarket trading. Shares of staples companies in the S&P 500 (XLP) were 0.90% higher and consumer discretionary firms (XLY) were recently up more than 1%. Sally Beau...\",\n",
       "  'DocumentID': '1413-A2209671-1TP7N57ER1S7KCKCI11CORAPL1'},\n",
       " {'Headline': 'Market Chatter: Tesla Concludes COVID-19-Related Pay Cuts',\n",
       "  'TimeStamp': '5:51AM ET, 07/06/2020',\n",
       "  'TimeStampRAW': '2020-07-06 05:51:42-04',\n",
       "  'Provider': 'MT Newswires',\n",
       "  'Teaser': '05:51 AM EDT, 07/06/2020 (MT Newswires) -- Tesla (TSLA) ended a period of reduced compensation associated with the COVID-19 pandemic on June 29, CNBC reported Thursday, citing an internal memo. The electric vehicle company implemented 10% to 30% pay...',\n",
       "  'DocumentID': '1413-A2209457-6L8E2RI5UL3KQDE4BA140DMAKD'},\n",
       " {'Headline': 'Close Update: Stocks End Holiday-Shortened Week on a High as Jobs Data Top Expectations Amid COVID-19 Concerns',\n",
       "  'TimeStamp': '4:49PM ET, 07/02/2020',\n",
       "  'TimeStampRAW': '2020-07-02 16:49:32-04',\n",
       "  'Provider': 'MT Newswires',\n",
       "  'Teaser': '04:49 PM EDT, 07/02/2020 (MT Newswires) -- US stocks closed higher ahead of the fourth of July holiday on Friday, with the tech-heavy Nasdaq Composite reaching a new 52-week intraday high, as the June employment report smashed market expectations am...',\n",
       "  'DocumentID': '1413-A2208848-3OO4GUKCE9EKB2L38N8EE6TNJD'},\n",
       " {'Headline': 'Stocks End Higher on Stronger-Than-Expected Jobs Report Ahead of Long Holiday Weekend',\n",
       "  'TimeStamp': '4:32PM ET, 07/02/2020',\n",
       "  'TimeStampRAW': '2020-07-02 16:32:35-04',\n",
       "  'Provider': 'MT Newswires',\n",
       "  'Teaser': \"04:32 PM EDT, 07/02/2020 (MT Newswires) -- Equities ended higher on Thursday on a stronger-than-expected jobs report for June, which bolstered investors' hopes that the economy is recovering from the COVID-19 pandemic as they headed out for the long...\",\n",
       "  'DocumentID': '1413-A2208826-7OR0VIVIDUOSVPUQPAFQ93C26V'},\n",
       " {'Headline': 'Nu Skin, Tesla rise; Tailored Brands, Facebook fall',\n",
       "  'TimeStamp': '4:18PM ET, 07/02/2020',\n",
       "  'TimeStampRAW': '2020-07-02 16:18:00-04',\n",
       "  'Provider': 'Associated Press',\n",
       "  'Teaser': 'NEW YORK Stocks that moved heavily or traded substantially on Thursday:. Dime Community Bancshares Inc., up 18 cents to $13.03. The parent company of Dime Community Bank is merging with Bridge Bancorp in an all-stock deal.',\n",
       "  'DocumentID': '600-18AP______FINANCE__62a235a2b25f9db7a81fbe695fbd8a2-1'},\n",
       " {'Headline': 'Market Chatter: Tesla Reportedly Revamps Plans for Berlin Gigafactory Project',\n",
       "  'TimeStamp': '4:06PM ET, 07/02/2020',\n",
       "  'TimeStampRAW': '2020-07-02 16:06:06-04',\n",
       "  'Provider': 'MT Newswires',\n",
       "  'Teaser': '04:06 PM EDT, 07/02/2020 (MT Newswires) -- Tesla (TSLA) filed a revised application for its Berlin Gigafactory project, with plans to exclude manufacturing batteries and plastic parts, Electrek reported Thursday, citing local media reports. The upda...',\n",
       "  'DocumentID': '1413-A2208800-4AOQPOFHKJ35E6F9EJFK8OPLSJ'},\n",
       " {'Headline': 'Sector Update: Consumer Stocks Extending Thursday Advance',\n",
       "  'TimeStamp': '3:53PM ET, 07/02/2020',\n",
       "  'TimeStampRAW': '2020-07-02 15:53:06-04',\n",
       "  'Provider': 'MT Newswires',\n",
       "  'Teaser': '03:53 PM EDT, 07/02/2020 (MT Newswires) -- Consumer stocks were adding slightly to their mid-day advance, with the SPDR Consumer Staples Select Sector ETF climbing 0.9% this afternoon while the SPDR Consumer Discretionary Select Sector ETF was risin...',\n",
       "  'DocumentID': '1413-A2208801-29SR2VN1J1IU44JEF9PLENEEIP'},\n",
       " {'Headline': \"Tesla Partners With Germany's CureVac to Build 'RNA Microfactories' to Produce COVID-19 Vaccine\",\n",
       "  'TimeStamp': '3:25PM ET, 07/02/2020',\n",
       "  'TimeStampRAW': '2020-07-02 15:25:18-04',\n",
       "  'Provider': 'MT Newswires',\n",
       "  'Teaser': '03:25 PM EDT, 07/02/2020 (MT Newswires) -- Tesla (TSLA) will build \"RNA microfactories\" for COVID-19 vaccine developer CureVac in Germany, according to a tweet by Chief Executive Officer Elon Musk on Wednesday. The automatic mRNA production units, t...',\n",
       "  'DocumentID': '1413-A2208776-63IBGCPF5DAJM052ETCMID5C0U'},\n",
       " {'Headline': 'Sector Update: Consumer Stocks Largely Keeping Pace With Broader Markets Thursday',\n",
       "  'TimeStamp': '1:18PM ET, 07/02/2020',\n",
       "  'TimeStampRAW': '2020-07-02 13:18:42-04',\n",
       "  'Provider': 'MT Newswires',\n",
       "  'Teaser': '01:18 PM EDT, 07/02/2020 (MT Newswires) -- Consumer stocks were trading higher with the SPDR Consumer Staples Select Sector ETF climbing 0.8% this afternoon while the SPDR Consumer Discretionary Select Sector ETF up 0.8%.  In company news, Genius Br...',\n",
       "  'DocumentID': '1413-A2208730-33KAUSCDI35EL7GA6FQ845M61A'},\n",
       " {'Headline': 'Midday Report: US Stocks Cut Gains After Surge in Florida Coronavirus Infections Takes Shine Out of Market-Beating June Jobs Report',\n",
       "  'TimeStamp': '1:17PM ET, 07/02/2020',\n",
       "  'TimeStampRAW': '2020-07-02 13:17:22-04',\n",
       "  'Provider': 'MT Newswires',\n",
       "  'Teaser': \"01:17 PM EDT, 07/02/2020 (MT Newswires) -- US stocks pared gains following reports of Florida reporting a one day surge in COVID-19 infections of more than 10,000, undermining the June employment report that beat the market's expectations.  The Dow ...\",\n",
       "  'DocumentID': '1413-A2208725-2PIMDFI95VM57LJ0S211EIQGET'},\n",
       " {'Headline': 'Stocks Climb as June US Jobs Report Outstrips Expectations Ahead of Holiday Break',\n",
       "  'TimeStamp': '12:32PM ET, 07/02/2020',\n",
       "  'TimeStampRAW': '2020-07-02 12:32:05-04',\n",
       "  'Provider': 'MT Newswires',\n",
       "  'Teaser': '12:32 PM EDT, 07/02/2020 (MT Newswires) -- US stocks advanced Thursday as Wall Street headed into the long Independence Day weekend with a robust June jobs report, but equities were off session highs as COVID-19 cases continued to mount.  The Dow Jo...',\n",
       "  'DocumentID': '1413-A2208707-798F8BCCGVIA27BSI97SLMKMCQ'},\n",
       " {'Headline': 'Tesla charges to new highs after reporting impressive Q2 production and delivery numbers',\n",
       "  'TimeStamp': '12:03PM ET, 07/02/2020',\n",
       "  'TimeStampRAW': '2020-07-02 12:03:13-04',\n",
       "  'Provider': 'Briefing.com',\n",
       "  'Teaser': \"Tesla (TSLA) continues to defy the challenging economic environment, posting impressive Q2 production and delivery numbers earlier this morning. Despite the fact that its Fremont, California plant was shut down from March 23 - May 17, the electric car maker still produced 82,272 vehicles, down a modest 4.5% yr/yr.<br><br>The uncertain economic times and volatility in the markets has done little to cool demand. For the quarter, TSLA delivered 90,650 vehicle, cruising past the ~74K consensus estimate. Additionally, the company actually delivered more Model 3 and Model Y's in Q2 (80,050) compared to Q1 (76,200).<br><br>The key catalyst for TSLA's recent success hinges on soaring sales for its less-expensive Model 3 car in China. In May, TSLA sold 11,095 Model 3s in China, more than tripling the number sold in April.<br><br>The company was able to achieve that stellar growth because its Shanghai production facility was only closed for a couple weeks in January and February. This allowed TSLA to meet the rising demand in China, which is being fueled by a couple different factors.<br><br>After a prolonged slump, the auto market in China is finally recovering, registering its first month-over-month sales increase in May (+1.9%) in nearly a year.Â\\xa0Electric vehicles (EVs) in particular are experiencing a surge in sales, evidenced by the 179% jump in June deliveries that China-based NIO (NIO) reported this morning.<br><br>The Chinese government is very supportive of the EV market, seeking to grow the share of new EV vehicles to 25% over the next five years. To help reach that goal, subsidies and tax incentives that were set to expire this year were extended to 2022. Furthermore, the government implemented a 2.7 bln yuan stimulus injection for battering charging equipment.<br><br>This positive business climate in China provides TSLA with a long runway for growth, which is a main reason why Wedbush raised its TSLA price target today to $1,250 from $1,000, while noting the bull case now stands at $2,000.<br><br><br><br>\",\n",
       "  'DocumentID': '309-ST20200702120113dhobein_live-0M4A7OQN9A4PNI3K4JITTB9JRB'},\n",
       " {'Headline': \"Tesla's Second-Quarter Deliveries a 'Major Home Run' Amid COVID-19 Pandemic, Wedbush Says\",\n",
       "  'TimeStamp': '10:06AM ET, 07/02/2020',\n",
       "  'TimeStampRAW': '2020-07-02 10:06:31-04',\n",
       "  'Provider': 'MT Newswires',\n",
       "  'Teaser': '10:06 AM EDT, 07/02/2020 (MT Newswires) -- Tesla (TSLA) on Thursday hit a \"major home run\" in the second quarter as the electric vehicle maker delivered nearly 91,000 cars in the period amid the COVID-19 pandemic, according to Wedbush Securities.  P...',\n",
       "  'DocumentID': '1413-A2208530-086ICUV0P8ORBFJ08DKBODPTB3'},\n",
       " {'Headline': 'Stocks Rally Into Independence Day Weekend as US Payrolls Surge Ahead of Predictions for June',\n",
       "  'TimeStamp': '9:58AM ET, 07/02/2020',\n",
       "  'TimeStampRAW': '2020-07-02 09:58:28-04',\n",
       "  'Provider': 'MT Newswires',\n",
       "  'Teaser': '09:58 AM EDT, 07/02/2020 (MT Newswires) -- Stocks rallied on Thursday after a better-than-expected US nonfarm payrolls report buoyed investor sentiment into the Independence Day long weekend.   The Dow Jones Industrial Average jumped about 400 point...',\n",
       "  'DocumentID': '1413-A2208525-6KPONT6BDCV2US5LL40PBKKLP1'},\n",
       " {'Headline': 'Sector Update: Consumer Firms Climb Pre-Bell Thursday',\n",
       "  'TimeStamp': '9:14AM ET, 07/02/2020',\n",
       "  'TimeStampRAW': '2020-07-02 09:14:53-04',\n",
       "  'Provider': 'MT Newswires',\n",
       "  'Teaser': \"09:14 AM EDT, 07/02/2020 (MT Newswires) -- Consumer firms were climbing pre-bell Thursday with shares of staples in the S&P 500 (XLP) up 0.7% and consumer discretionary firms (XLY) advancing by 1%. Francesca's Holdings (FRAN) almost doubled after th...\",\n",
       "  'DocumentID': '1413-A2208479-4U387S4A1K4J8US27BUAKLDGR6'},\n",
       " {'Headline': 'Tesla Produced More than 82,000 Vehicles in Q2, Says Production Back to Prior Levels; Shares Rise Pre-Bell',\n",
       "  'TimeStamp': '8:19AM ET, 07/02/2020',\n",
       "  'TimeStampRAW': '2020-07-02 08:19:41-04',\n",
       "  'Provider': 'MT Newswires',\n",
       "  'Teaser': '08:19 AM EDT, 07/02/2020 (MT Newswires) -- Tesla (TSLA) said Thursday it has produced 82,272 vehicles and delivered 90,650 units in Q2.  The electric automaker said it has \"successfully ramped\" production back to its previous levels despite suspendi...',\n",
       "  'DocumentID': '1413-A2208394-0KCNLD6SIDI3JRILFTCP8F0BE3'},\n",
       " {'Headline': 'Tesla 2Q deliveries rise over 1Q despite factory shutdown',\n",
       "  'TimeStamp': '8:17AM ET, 07/02/2020',\n",
       "  'TimeStampRAW': '2020-07-02 08:17:00-04',\n",
       "  'Provider': 'Associated Press',\n",
       "  'Teaser': 'DETROIT Tesla says it delivered more electric vehicles worldwide in the second quarter than it did in the first. The increase came even though coronavirus restrictions forced it to shut down its only U.S. factory for much of the period. The company says it delivered 90,650 vehicles from April through June as it rolled out the new Model Y SUV in the U.S. and China.',\n",
       "  'DocumentID': '600-17AP______FINANCE__3d7d0e05e137ed7c6b78463ed3d13bc-1'},\n",
       " {'Headline': 'Form  8-K        Tesla, Inc.               For: Jul 02',\n",
       "  'TimeStamp': '8:02AM ET, 07/02/2020',\n",
       "  'TimeStampRAW': '2020-07-02 08:02:00-04',\n",
       "  'Provider': 'US Securities and Exchange Commission',\n",
       "  'Teaser': 'Filed on: July 2, 2020.',\n",
       "  'DocumentID': '600-202007020802SEC_____EDGAR____AOBZT22CZW22KJ82222B2-1'},\n",
       " {'Headline': 'Tesla Q2 2020 Vehicle Production & Deliveries',\n",
       "  'TimeStamp': '7:59AM ET, 07/02/2020',\n",
       "  'TimeStampRAW': '2020-07-02 07:59:00-04',\n",
       "  'Provider': 'GlobeNewswire',\n",
       "  'Teaser': '--In the second quarter, we produced over 82,000 vehicles and delivered approximately 90,650 vehicles.. While our main factory in Fremont was shut down for much of the quarter, we have successfully ramped production back to prior levels. Our net income and cash flow results will be announced along with the rest of our financial performance when we announce Q2...',\n",
       "  'DocumentID': '600-202007020759PRIMZONEFULLFEED7954318-1'}]"
      ]
     },
     "execution_count": 32,
     "metadata": {},
     "output_type": "execute_result"
    }
   ],
   "source": [
    "story_list"
   ]
  },
  {
   "cell_type": "markdown",
   "metadata": {},
   "source": [
    "### Get text content of news from list of news IDs"
   ]
  },
  {
   "cell_type": "code",
   "execution_count": 26,
   "metadata": {},
   "outputs": [
    {
     "data": {
      "text/plain": [
       "'1413-A2208707-798F8BCCGVIA27BSI97SLMKMCQ'"
      ]
     },
     "execution_count": 26,
     "metadata": {},
     "output_type": "execute_result"
    }
   ],
   "source": [
    "newsIDs[16]"
   ]
  },
  {
   "cell_type": "code",
   "execution_count": null,
   "metadata": {},
   "outputs": [],
   "source": [
    "url = \"https://schwab.p.rapidapi.com/news/get-details\"\n",
    "\n",
    "querystring = {\"docID\":f\"{newsIDs[16]}\"}\n",
    "\n",
    "\n",
    "response = requests.request(\"GET\", url, headers=headers, params=querystring)\n"
   ]
  },
  {
   "cell_type": "markdown",
   "metadata": {},
   "source": [
    "Unfortunately, there's no api to grab a bunch of news at the same time. To save some money, we will only use the headline and teaser paragraph for analysis if the news source from the Schwab API."
   ]
  }
 ],
 "metadata": {
  "kernelspec": {
   "display_name": "faangs_venv",
   "language": "python",
   "name": "faangs_venv"
  },
  "language_info": {
   "codemirror_mode": {
    "name": "ipython",
    "version": 3
   },
   "file_extension": ".py",
   "mimetype": "text/x-python",
   "name": "python",
   "nbconvert_exporter": "python",
   "pygments_lexer": "ipython3",
   "version": "3.7.3"
  }
 },
 "nbformat": 4,
 "nbformat_minor": 2
}