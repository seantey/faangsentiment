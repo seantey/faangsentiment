{
 "cells": [
  {
   "cell_type": "code",
   "execution_count": 1,
   "metadata": {},
   "outputs": [
    {
     "data": {
      "application/vnd.jupyter.widget-view+json": {
       "model_id": "c8d1af7d64ea4623ad917d31926b60ce",
       "version_major": 2,
       "version_minor": 0
      },
      "text/plain": [
       "HBox(children=(FloatProgress(value=0.0, description='Downloading', max=629.0, style=ProgressStyle(description_…"
      ]
     },
     "metadata": {},
     "output_type": "display_data"
    },
    {
     "name": "stdout",
     "output_type": "stream",
     "text": [
      "\n"
     ]
    },
    {
     "data": {
      "application/vnd.jupyter.widget-view+json": {
       "model_id": "f2445e0b3b3d404ea2c91c15ce55b2dc",
       "version_major": 2,
       "version_minor": 0
      },
      "text/plain": [
       "HBox(children=(FloatProgress(value=0.0, description='Downloading', max=231508.0, style=ProgressStyle(descripti…"
      ]
     },
     "metadata": {},
     "output_type": "display_data"
    },
    {
     "name": "stdout",
     "output_type": "stream",
     "text": [
      "\n"
     ]
    },
    {
     "data": {
      "application/vnd.jupyter.widget-view+json": {
       "model_id": "450d62c9bc144674ac68c4188ba581df",
       "version_major": 2,
       "version_minor": 0
      },
      "text/plain": [
       "HBox(children=(FloatProgress(value=0.0, description='Downloading', max=230.0, style=ProgressStyle(description_…"
      ]
     },
     "metadata": {},
     "output_type": "display_data"
    },
    {
     "name": "stdout",
     "output_type": "stream",
     "text": [
      "\n"
     ]
    },
    {
     "data": {
      "application/vnd.jupyter.widget-view+json": {
       "model_id": "a9a333d2a5e54b0d882d1dd1e9d0f911",
       "version_major": 2,
       "version_minor": 0
      },
      "text/plain": [
       "HBox(children=(FloatProgress(value=0.0, description='Downloading', max=267844284.0, style=ProgressStyle(descri…"
      ]
     },
     "metadata": {},
     "output_type": "display_data"
    },
    {
     "name": "stdout",
     "output_type": "stream",
     "text": [
      "\n",
      "[{'label': 'POSITIVE', 'score': 0.9305248856544495}]\n"
     ]
    }
   ],
   "source": [
    "from transformers import pipeline\n",
    "\n",
    "sentimentAnalysis = pipeline(\"sentiment-analysis\")\n",
    "print(sentimentAnalysis(\"Transformers piplines are easy to use\"))"
   ]
  },
  {
   "cell_type": "code",
   "execution_count": null,
   "metadata": {},
   "outputs": [],
   "source": []
  },
  {
   "cell_type": "code",
   "execution_count": 12,
   "metadata": {},
   "outputs": [
    {
     "name": "stdout",
     "output_type": "stream",
     "text": [
      "[{'label': 'POSITIVE', 'score': 0.8177958130836487}]\n"
     ]
    }
   ],
   "source": [
    "print(sentimentAnalysis(\"Big Tech Stocks Top Trillion-Dollar Each: ETFs to Bet On\"))"
   ]
  },
  {
   "cell_type": "code",
   "execution_count": 5,
   "metadata": {},
   "outputs": [],
   "source": [
    "article1 = \"\"\"\n",
    "(Bloomberg) -- Facebook Inc., Google and Twitter Inc. -- all of which are blocked in the mainland -- are now headed toward a showdown with China that could end up making Hong Kong feel more like Beijing.Hours after Hong Kong announced sweeping new powers to police the internet on Monday night, those companies plus the likes of Microsoft Corp. and Zoom Video Communications Inc. all suspended requests for data from the Hong Kong government. ByteDance Ltd.’s TikTok, which has Chinese owners, announced it would pull its viral video app from the territory’s mobile stores in the coming days even as President Donald Trump threatened to ban it in the U.S.Their dilemma is stark: Bend to the law and infuriate Western nations increasingly at odds with China over political freedoms, or simply refuse and depart like Google did in China a decade ago over some of the very same issues. Much like that seismic event shook the mainland in 2010, Big Tech’s reaction now could have a much wider impact on Hong Kong’s future as a financial hub -- potentially sparking an exodus of professionals and businesses.“Google is pretty important to people here, and if that’s cut off then it’s really extremely serious,” said Richard Harris, a former director at Citi Private Bank who now runs Port Shelter Investment Management in Hong Kong. “In Hong Kong we don’t know where the boundaries are, and that’s threatening to a lot of business people.”Over the past week, Hong Kong authorities have begun explaining how they’ll enforce a law that officials in Beijing called a “sword of Damocles” hanging over China’s most strident critics. The legislation, which sparked the threat of sanctions from the Trump administration and outrage elsewhere, has had a chilling effect on pro-democracy protesters who demonstrated for months last year while also raising fresh questions for businesses.On Monday night, the Hong Kong government announced sweeping new police powers, including warrant-less searches, property seizures and online surveillance. If a publisher fails to immediately comply with a request to remove content deemed in breach of the law, police can seek a warrant to “take any action” to remove it while also demanding “the identification record or decryption assistance.”“We are absolutely headed for a showdown, and there are no indications that the Hong Kong government is particularly prepared if Facebook or another company refuses a removal request,” said James Griffiths, a journalist and author of “The Great Firewall: How to Build and Control an Alternative Version of the Internet.” “These companies appear to have realized that there is no compromise they could make that would truly satisfy Beijing or make them seem trustworthy. \n",
    "\"\"\""
   ]
  }
 ],
 "metadata": {
  "kernelspec": {
   "display_name": "faangs_venv",
   "language": "python",
   "name": "faangs_venv"
  },
  "language_info": {
   "codemirror_mode": {
    "name": "ipython",
    "version": 3
   },
   "file_extension": ".py",
   "mimetype": "text/x-python",
   "name": "python",
   "nbconvert_exporter": "python",
   "pygments_lexer": "ipython3",
   "version": "3.7.3"
  }
 },
 "nbformat": 4,
 "nbformat_minor": 2
}
