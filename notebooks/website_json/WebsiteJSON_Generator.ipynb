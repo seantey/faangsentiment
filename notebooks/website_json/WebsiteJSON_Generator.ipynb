{
 "cells": [
  {
   "cell_type": "code",
   "execution_count": 1,
   "metadata": {},
   "outputs": [],
   "source": [
    "from datetime import datetime, timedelta\n",
    "import pandas as pd"
   ]
  },
  {
   "cell_type": "code",
   "execution_count": 2,
   "metadata": {},
   "outputs": [],
   "source": [
    "import boto3\n",
    "from boto3.dynamodb.conditions import Key"
   ]
  },
  {
   "cell_type": "code",
   "execution_count": 3,
   "metadata": {},
   "outputs": [],
   "source": [
    "import json"
   ]
  },
  {
   "cell_type": "code",
   "execution_count": 4,
   "metadata": {},
   "outputs": [],
   "source": [
    "# Given analysis window\n",
    "analysis_window = '2020-07-25_Hour=15'\n",
    "\n",
    "# Get the current datetime object\n",
    "today_str = analysis_window[:10]\n",
    "today_dt = datetime.strptime(today_str, '%Y-%m-%d')"
   ]
  },
  {
   "cell_type": "code",
   "execution_count": 5,
   "metadata": {},
   "outputs": [],
   "source": [
    "# Initialize DynamoDB connection\n",
    "table_name  = 'test_results'\n",
    "index_name = 'analysis_date_index'\n",
    "\n",
    "dynamodb = boto3.resource('dynamodb')\n",
    "table = dynamodb.Table(table_name)\n",
    "\n",
    "# Store a list of dataframes with the sentiment label and scores for each stock and each day.\n",
    "sentiment_df_list = []\n",
    "\n",
    "# Past 7 days includes today.\n",
    "for i in range(7):\n",
    "    current_dt = today_dt - timedelta(days=i)\n",
    "    \n",
    "    # Use global secondary index to query data for a given day only.\n",
    "    current_str = current_dt.strftime('%Y-%m-%d')\n",
    "    response = table.query(\n",
    "                IndexName=index_name,\n",
    "                KeyConditionExpression=Key('analysis_date').eq(current_str)\n",
    "                )\n",
    "    \n",
    "    # Columns: analysis_date, analysis_window, api_success_e_str, final_score, label, t_symb\n",
    "    current_date_df = pd.DataFrame(response['Items'])\n",
    "\n",
    "    # Get the date string for the most latest hour\n",
    "    latest_hours_df = current_date_df.groupby('t_symb').agg({'analysis_window':'max'}).reset_index()\n",
    "\n",
    "    # Fetch subset of data for the most latest hour of that day\n",
    "    subset_hour_df = pd.DataFrame.merge(current_date_df, latest_hours_df, on=['t_symb','analysis_window'], how='inner')\n",
    "\n",
    "    # Get the date, ticker symbol, api_success_est_time and predicted sentiment label and score\n",
    "    current_day_sentiment_df = subset_hour_df[['analysis_date','t_symb', 'label', 'final_score','api_success_e_str']]\n",
    "    \n",
    "    # Add a categorical column to identify 1st (today) to 7th (furthest in the past) day \n",
    "    # using labels day-1 to day-7\n",
    "    current_day_sentiment_df = current_day_sentiment_df.assign(day_label=f'day-{i+1}')\n",
    "    \n",
    "    sentiment_df_list.append(current_day_sentiment_df)"
   ]
  },
  {
   "cell_type": "code",
   "execution_count": 6,
   "metadata": {},
   "outputs": [],
   "source": [
    "# Combine the list of dataframes into one long dataframe\n",
    "sentiment_7_days_df = pd.concat(sentiment_df_list,axis=0)"
   ]
  },
  {
   "cell_type": "code",
   "execution_count": 7,
   "metadata": {},
   "outputs": [],
   "source": [
    "# Rename label to sentiment label\n",
    "sentiment_7_days_df = sentiment_7_days_df.rename(columns={'label':'sentiment_label'})"
   ]
  },
  {
   "cell_type": "code",
   "execution_count": 10,
   "metadata": {},
   "outputs": [],
   "source": [
    "# Convert the date string to a \"month/day\" string\n",
    "def gen_month_day_string(input_date_string):\n",
    "    m_day = input_date_string[-5:]\n",
    "    month, day = m_day.split('-')\n",
    "    return f'{month}/{day}'\n",
    "\n",
    "sentiment_7_days_df = sentiment_7_days_df.assign(month_day=sentiment_7_days_df\n",
    "                                           .analysis_date\n",
    "                                           .apply(gen_month_day_string))\n",
    "\n",
    "# Chop off the 4 digit timezone info in last updated e.g. EDT-0400 to EDT\n",
    "sentiment_7_days_df = sentiment_7_days_df.assign(last_updated = sentiment_7_days_df\n",
    "                                           .api_success_e_str\n",
    "                                           .map(lambda x: x[:-5]))"
   ]
  },
  {
   "cell_type": "code",
   "execution_count": 11,
   "metadata": {},
   "outputs": [],
   "source": [
    "color_map = {'POSITIVE':'#1a9641', 'NEGATIVE':'#d7191c', 'UNCERTAIN':'#607d8b'}"
   ]
  },
  {
   "cell_type": "code",
   "execution_count": 12,
   "metadata": {},
   "outputs": [],
   "source": [
    "sentiment_7_days_df = sentiment_7_days_df.assign(hex_color=sentiment_7_days_df\n",
    "                                                                .sentiment_label\n",
    "                                                                .map(color_map))"
   ]
  },
  {
   "cell_type": "code",
   "execution_count": 13,
   "metadata": {},
   "outputs": [
    {
     "data": {
      "text/plain": [
       "(35, 9)"
      ]
     },
     "execution_count": 13,
     "metadata": {},
     "output_type": "execute_result"
    }
   ],
   "source": [
    "sentiment_7_days_df.shape"
   ]
  },
  {
   "cell_type": "code",
   "execution_count": 14,
   "metadata": {},
   "outputs": [
    {
     "data": {
      "text/html": [
       "<div>\n",
       "<style scoped>\n",
       "    .dataframe tbody tr th:only-of-type {\n",
       "        vertical-align: middle;\n",
       "    }\n",
       "\n",
       "    .dataframe tbody tr th {\n",
       "        vertical-align: top;\n",
       "    }\n",
       "\n",
       "    .dataframe thead th {\n",
       "        text-align: right;\n",
       "    }\n",
       "</style>\n",
       "<table border=\"1\" class=\"dataframe\">\n",
       "  <thead>\n",
       "    <tr style=\"text-align: right;\">\n",
       "      <th></th>\n",
       "      <th>analysis_date</th>\n",
       "      <th>t_symb</th>\n",
       "      <th>sentiment_label</th>\n",
       "      <th>final_score</th>\n",
       "      <th>api_success_e_str</th>\n",
       "      <th>day_label</th>\n",
       "      <th>month_day</th>\n",
       "      <th>last_updated</th>\n",
       "      <th>hex_color</th>\n",
       "    </tr>\n",
       "  </thead>\n",
       "  <tbody>\n",
       "    <tr>\n",
       "      <th>0</th>\n",
       "      <td>2020-07-25</td>\n",
       "      <td>AMZN</td>\n",
       "      <td>NEGATIVE</td>\n",
       "      <td>-0.90352811</td>\n",
       "      <td>2020-07-25 15:42:53 EDT-0400</td>\n",
       "      <td>day-1</td>\n",
       "      <td>07/25</td>\n",
       "      <td>2020-07-25 15:42:53 EDT</td>\n",
       "      <td>#d7191c</td>\n",
       "    </tr>\n",
       "    <tr>\n",
       "      <th>1</th>\n",
       "      <td>2020-07-25</td>\n",
       "      <td>GOOG</td>\n",
       "      <td>NEGATIVE</td>\n",
       "      <td>-0.97650835</td>\n",
       "      <td>2020-07-25 15:43:34 EDT-0400</td>\n",
       "      <td>day-1</td>\n",
       "      <td>07/25</td>\n",
       "      <td>2020-07-25 15:43:34 EDT</td>\n",
       "      <td>#d7191c</td>\n",
       "    </tr>\n",
       "    <tr>\n",
       "      <th>2</th>\n",
       "      <td>2020-07-25</td>\n",
       "      <td>NFLX</td>\n",
       "      <td>NEGATIVE</td>\n",
       "      <td>-0.97371604</td>\n",
       "      <td>2020-07-25 15:43:17 EDT-0400</td>\n",
       "      <td>day-1</td>\n",
       "      <td>07/25</td>\n",
       "      <td>2020-07-25 15:43:17 EDT</td>\n",
       "      <td>#d7191c</td>\n",
       "    </tr>\n",
       "    <tr>\n",
       "      <th>3</th>\n",
       "      <td>2020-07-25</td>\n",
       "      <td>FB</td>\n",
       "      <td>NEGATIVE</td>\n",
       "      <td>-0.99109565</td>\n",
       "      <td>2020-07-25 15:42:42 EDT-0400</td>\n",
       "      <td>day-1</td>\n",
       "      <td>07/25</td>\n",
       "      <td>2020-07-25 15:42:42 EDT</td>\n",
       "      <td>#d7191c</td>\n",
       "    </tr>\n",
       "    <tr>\n",
       "      <th>4</th>\n",
       "      <td>2020-07-25</td>\n",
       "      <td>AAPL</td>\n",
       "      <td>NEGATIVE</td>\n",
       "      <td>-0.81748209</td>\n",
       "      <td>2020-07-25 15:43:06 EDT-0400</td>\n",
       "      <td>day-1</td>\n",
       "      <td>07/25</td>\n",
       "      <td>2020-07-25 15:43:06 EDT</td>\n",
       "      <td>#d7191c</td>\n",
       "    </tr>\n",
       "  </tbody>\n",
       "</table>\n",
       "</div>"
      ],
      "text/plain": [
       "  analysis_date t_symb sentiment_label  final_score  \\\n",
       "0    2020-07-25   AMZN        NEGATIVE  -0.90352811   \n",
       "1    2020-07-25   GOOG        NEGATIVE  -0.97650835   \n",
       "2    2020-07-25   NFLX        NEGATIVE  -0.97371604   \n",
       "3    2020-07-25     FB        NEGATIVE  -0.99109565   \n",
       "4    2020-07-25   AAPL        NEGATIVE  -0.81748209   \n",
       "\n",
       "              api_success_e_str day_label month_day             last_updated  \\\n",
       "0  2020-07-25 15:42:53 EDT-0400     day-1     07/25  2020-07-25 15:42:53 EDT   \n",
       "1  2020-07-25 15:43:34 EDT-0400     day-1     07/25  2020-07-25 15:43:34 EDT   \n",
       "2  2020-07-25 15:43:17 EDT-0400     day-1     07/25  2020-07-25 15:43:17 EDT   \n",
       "3  2020-07-25 15:42:42 EDT-0400     day-1     07/25  2020-07-25 15:42:42 EDT   \n",
       "4  2020-07-25 15:43:06 EDT-0400     day-1     07/25  2020-07-25 15:43:06 EDT   \n",
       "\n",
       "  hex_color  \n",
       "0   #d7191c  \n",
       "1   #d7191c  \n",
       "2   #d7191c  \n",
       "3   #d7191c  \n",
       "4   #d7191c  "
      ]
     },
     "execution_count": 14,
     "metadata": {},
     "output_type": "execute_result"
    }
   ],
   "source": [
    "sentiment_7_days_df.head(5)"
   ]
  },
  {
   "cell_type": "code",
   "execution_count": 15,
   "metadata": {},
   "outputs": [],
   "source": [
    "# Create nested dictionary from pandas dataframe with t_symb as first level key \n",
    "# and day_label as second level key\n",
    "# https://stackoverflow.com/questions/41998624/how-to-convert-pandas-dataframe-to-nested-dictionary\n",
    "nested_7_days = (sentiment_7_days_df.groupby('t_symb')[['day_label','sentiment_label',\n",
    "                                                        'analysis_date','month_day','hex_color',\n",
    "                                                        'last_updated']]\n",
    "                                   .apply(lambda x: x.set_index('day_label').to_dict(orient='index'))\n",
    "                                   .to_dict()\n",
    "                )"
   ]
  },
  {
   "cell_type": "code",
   "execution_count": 16,
   "metadata": {},
   "outputs": [],
   "source": [
    "json_string = json.dumps(nested_7_days,indent=4)"
   ]
  },
  {
   "cell_type": "code",
   "execution_count": 17,
   "metadata": {},
   "outputs": [],
   "source": [
    "with open(\"test_7_days.json\", \"w\") as json_file:\n",
    "    print(json_string, file=json_file)"
   ]
  }
 ],
 "metadata": {
  "kernelspec": {
   "display_name": "faangs_venv",
   "language": "python",
   "name": "faangs_venv"
  },
  "language_info": {
   "codemirror_mode": {
    "name": "ipython",
    "version": 3
   },
   "file_extension": ".py",
   "mimetype": "text/x-python",
   "name": "python",
   "nbconvert_exporter": "python",
   "pygments_lexer": "ipython3",
   "version": "3.7.3"
  }
 },
 "nbformat": 4,
 "nbformat_minor": 4
}
